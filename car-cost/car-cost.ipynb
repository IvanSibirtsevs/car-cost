{
 "cells": [
  {
   "cell_type": "markdown",
   "metadata": {},
   "source": [
    "# Determining the cost of cars\n",
    "\n",
    "Service for the sale of used cars \"Not beaten, not beautiful\" is developing an application to attract new customers. In it, you can quickly find out the market value of your car. At your disposal are historical data: technical specifications, equipment and prices of cars. You need to build a model to determine the cost.\n",
    "\n",
    "The customer is important:\n",
    "\n",
    "- quality of prediction;\n",
    "- prediction speed;\n",
    "- studying time."
   ]
  },
  {
   "cell_type": "markdown",
   "metadata": {},
   "source": [
    "# 1. Data preparation"
   ]
  },
  {
   "cell_type": "code",
   "execution_count": 1,
   "metadata": {},
   "outputs": [],
   "source": [
    "import pandas as pd\n",
    "from sklearn.preprocessing import OrdinalEncoder \n",
    "from sklearn.model_selection import train_test_split\n",
    "from catboost import CatBoostRegressor\n",
    "from sklearn.metrics import roc_auc_score\n",
    "import numpy as np\n",
    "from sklearn.metrics import mean_squared_error\n",
    "from sklearn.linear_model import LinearRegression\n",
    "import lightgbm as lgb\n",
    "import xgboost as xgb\n",
    "import warnings\n",
    "import matplotlib.pyplot as plt\n",
    "from sklearn.datasets import make_classification\n",
    "from sklearn.ensemble import ExtraTreesClassifier\n",
    "from sklearn.ensemble import RandomForestRegressor\n",
    "import seaborn as sns\n",
    "warnings.filterwarnings(\"ignore\")\n"
   ]
  },
  {
   "cell_type": "code",
   "execution_count": 2,
   "metadata": {},
   "outputs": [
    {
     "data": {
      "text/html": [
       "<div>\n",
       "<style scoped>\n",
       "    .dataframe tbody tr th:only-of-type {\n",
       "        vertical-align: middle;\n",
       "    }\n",
       "\n",
       "    .dataframe tbody tr th {\n",
       "        vertical-align: top;\n",
       "    }\n",
       "\n",
       "    .dataframe thead th {\n",
       "        text-align: right;\n",
       "    }\n",
       "</style>\n",
       "<table border=\"1\" class=\"dataframe\">\n",
       "  <thead>\n",
       "    <tr style=\"text-align: right;\">\n",
       "      <th></th>\n",
       "      <th>DateCrawled</th>\n",
       "      <th>Price</th>\n",
       "      <th>VehicleType</th>\n",
       "      <th>RegistrationYear</th>\n",
       "      <th>Gearbox</th>\n",
       "      <th>Power</th>\n",
       "      <th>Model</th>\n",
       "      <th>Kilometer</th>\n",
       "      <th>RegistrationMonth</th>\n",
       "      <th>FuelType</th>\n",
       "      <th>Brand</th>\n",
       "      <th>NotRepaired</th>\n",
       "      <th>DateCreated</th>\n",
       "      <th>NumberOfPictures</th>\n",
       "      <th>PostalCode</th>\n",
       "      <th>LastSeen</th>\n",
       "    </tr>\n",
       "  </thead>\n",
       "  <tbody>\n",
       "    <tr>\n",
       "      <th>0</th>\n",
       "      <td>2016-03-24 11:52:17</td>\n",
       "      <td>480</td>\n",
       "      <td>NaN</td>\n",
       "      <td>1993</td>\n",
       "      <td>manual</td>\n",
       "      <td>0</td>\n",
       "      <td>golf</td>\n",
       "      <td>150000</td>\n",
       "      <td>0</td>\n",
       "      <td>petrol</td>\n",
       "      <td>volkswagen</td>\n",
       "      <td>NaN</td>\n",
       "      <td>2016-03-24 00:00:00</td>\n",
       "      <td>0</td>\n",
       "      <td>70435</td>\n",
       "      <td>2016-04-07 03:16:57</td>\n",
       "    </tr>\n",
       "    <tr>\n",
       "      <th>1</th>\n",
       "      <td>2016-03-24 10:58:45</td>\n",
       "      <td>18300</td>\n",
       "      <td>coupe</td>\n",
       "      <td>2011</td>\n",
       "      <td>manual</td>\n",
       "      <td>190</td>\n",
       "      <td>NaN</td>\n",
       "      <td>125000</td>\n",
       "      <td>5</td>\n",
       "      <td>gasoline</td>\n",
       "      <td>audi</td>\n",
       "      <td>yes</td>\n",
       "      <td>2016-03-24 00:00:00</td>\n",
       "      <td>0</td>\n",
       "      <td>66954</td>\n",
       "      <td>2016-04-07 01:46:50</td>\n",
       "    </tr>\n",
       "    <tr>\n",
       "      <th>2</th>\n",
       "      <td>2016-03-14 12:52:21</td>\n",
       "      <td>9800</td>\n",
       "      <td>suv</td>\n",
       "      <td>2004</td>\n",
       "      <td>auto</td>\n",
       "      <td>163</td>\n",
       "      <td>grand</td>\n",
       "      <td>125000</td>\n",
       "      <td>8</td>\n",
       "      <td>gasoline</td>\n",
       "      <td>jeep</td>\n",
       "      <td>NaN</td>\n",
       "      <td>2016-03-14 00:00:00</td>\n",
       "      <td>0</td>\n",
       "      <td>90480</td>\n",
       "      <td>2016-04-05 12:47:46</td>\n",
       "    </tr>\n",
       "    <tr>\n",
       "      <th>3</th>\n",
       "      <td>2016-03-17 16:54:04</td>\n",
       "      <td>1500</td>\n",
       "      <td>small</td>\n",
       "      <td>2001</td>\n",
       "      <td>manual</td>\n",
       "      <td>75</td>\n",
       "      <td>golf</td>\n",
       "      <td>150000</td>\n",
       "      <td>6</td>\n",
       "      <td>petrol</td>\n",
       "      <td>volkswagen</td>\n",
       "      <td>no</td>\n",
       "      <td>2016-03-17 00:00:00</td>\n",
       "      <td>0</td>\n",
       "      <td>91074</td>\n",
       "      <td>2016-03-17 17:40:17</td>\n",
       "    </tr>\n",
       "    <tr>\n",
       "      <th>4</th>\n",
       "      <td>2016-03-31 17:25:20</td>\n",
       "      <td>3600</td>\n",
       "      <td>small</td>\n",
       "      <td>2008</td>\n",
       "      <td>manual</td>\n",
       "      <td>69</td>\n",
       "      <td>fabia</td>\n",
       "      <td>90000</td>\n",
       "      <td>7</td>\n",
       "      <td>gasoline</td>\n",
       "      <td>skoda</td>\n",
       "      <td>no</td>\n",
       "      <td>2016-03-31 00:00:00</td>\n",
       "      <td>0</td>\n",
       "      <td>60437</td>\n",
       "      <td>2016-04-06 10:17:21</td>\n",
       "    </tr>\n",
       "    <tr>\n",
       "      <th>...</th>\n",
       "      <td>...</td>\n",
       "      <td>...</td>\n",
       "      <td>...</td>\n",
       "      <td>...</td>\n",
       "      <td>...</td>\n",
       "      <td>...</td>\n",
       "      <td>...</td>\n",
       "      <td>...</td>\n",
       "      <td>...</td>\n",
       "      <td>...</td>\n",
       "      <td>...</td>\n",
       "      <td>...</td>\n",
       "      <td>...</td>\n",
       "      <td>...</td>\n",
       "      <td>...</td>\n",
       "      <td>...</td>\n",
       "    </tr>\n",
       "    <tr>\n",
       "      <th>354364</th>\n",
       "      <td>2016-03-21 09:50:58</td>\n",
       "      <td>0</td>\n",
       "      <td>NaN</td>\n",
       "      <td>2005</td>\n",
       "      <td>manual</td>\n",
       "      <td>0</td>\n",
       "      <td>colt</td>\n",
       "      <td>150000</td>\n",
       "      <td>7</td>\n",
       "      <td>petrol</td>\n",
       "      <td>mitsubishi</td>\n",
       "      <td>yes</td>\n",
       "      <td>2016-03-21 00:00:00</td>\n",
       "      <td>0</td>\n",
       "      <td>2694</td>\n",
       "      <td>2016-03-21 10:42:49</td>\n",
       "    </tr>\n",
       "    <tr>\n",
       "      <th>354365</th>\n",
       "      <td>2016-03-14 17:48:27</td>\n",
       "      <td>2200</td>\n",
       "      <td>NaN</td>\n",
       "      <td>2005</td>\n",
       "      <td>NaN</td>\n",
       "      <td>0</td>\n",
       "      <td>NaN</td>\n",
       "      <td>20000</td>\n",
       "      <td>1</td>\n",
       "      <td>NaN</td>\n",
       "      <td>sonstige_autos</td>\n",
       "      <td>NaN</td>\n",
       "      <td>2016-03-14 00:00:00</td>\n",
       "      <td>0</td>\n",
       "      <td>39576</td>\n",
       "      <td>2016-04-06 00:46:52</td>\n",
       "    </tr>\n",
       "    <tr>\n",
       "      <th>354366</th>\n",
       "      <td>2016-03-05 19:56:21</td>\n",
       "      <td>1199</td>\n",
       "      <td>convertible</td>\n",
       "      <td>2000</td>\n",
       "      <td>auto</td>\n",
       "      <td>101</td>\n",
       "      <td>fortwo</td>\n",
       "      <td>125000</td>\n",
       "      <td>3</td>\n",
       "      <td>petrol</td>\n",
       "      <td>smart</td>\n",
       "      <td>no</td>\n",
       "      <td>2016-03-05 00:00:00</td>\n",
       "      <td>0</td>\n",
       "      <td>26135</td>\n",
       "      <td>2016-03-11 18:17:12</td>\n",
       "    </tr>\n",
       "    <tr>\n",
       "      <th>354367</th>\n",
       "      <td>2016-03-19 18:57:12</td>\n",
       "      <td>9200</td>\n",
       "      <td>bus</td>\n",
       "      <td>1996</td>\n",
       "      <td>manual</td>\n",
       "      <td>102</td>\n",
       "      <td>transporter</td>\n",
       "      <td>150000</td>\n",
       "      <td>3</td>\n",
       "      <td>gasoline</td>\n",
       "      <td>volkswagen</td>\n",
       "      <td>no</td>\n",
       "      <td>2016-03-19 00:00:00</td>\n",
       "      <td>0</td>\n",
       "      <td>87439</td>\n",
       "      <td>2016-04-07 07:15:26</td>\n",
       "    </tr>\n",
       "    <tr>\n",
       "      <th>354368</th>\n",
       "      <td>2016-03-20 19:41:08</td>\n",
       "      <td>3400</td>\n",
       "      <td>wagon</td>\n",
       "      <td>2002</td>\n",
       "      <td>manual</td>\n",
       "      <td>100</td>\n",
       "      <td>golf</td>\n",
       "      <td>150000</td>\n",
       "      <td>6</td>\n",
       "      <td>gasoline</td>\n",
       "      <td>volkswagen</td>\n",
       "      <td>NaN</td>\n",
       "      <td>2016-03-20 00:00:00</td>\n",
       "      <td>0</td>\n",
       "      <td>40764</td>\n",
       "      <td>2016-03-24 12:45:21</td>\n",
       "    </tr>\n",
       "  </tbody>\n",
       "</table>\n",
       "<p>354369 rows × 16 columns</p>\n",
       "</div>"
      ],
      "text/plain": [
       "                DateCrawled  Price  VehicleType  RegistrationYear Gearbox  \\\n",
       "0       2016-03-24 11:52:17    480          NaN              1993  manual   \n",
       "1       2016-03-24 10:58:45  18300        coupe              2011  manual   \n",
       "2       2016-03-14 12:52:21   9800          suv              2004    auto   \n",
       "3       2016-03-17 16:54:04   1500        small              2001  manual   \n",
       "4       2016-03-31 17:25:20   3600        small              2008  manual   \n",
       "...                     ...    ...          ...               ...     ...   \n",
       "354364  2016-03-21 09:50:58      0          NaN              2005  manual   \n",
       "354365  2016-03-14 17:48:27   2200          NaN              2005     NaN   \n",
       "354366  2016-03-05 19:56:21   1199  convertible              2000    auto   \n",
       "354367  2016-03-19 18:57:12   9200          bus              1996  manual   \n",
       "354368  2016-03-20 19:41:08   3400        wagon              2002  manual   \n",
       "\n",
       "        Power        Model  Kilometer  RegistrationMonth  FuelType  \\\n",
       "0           0         golf     150000                  0    petrol   \n",
       "1         190          NaN     125000                  5  gasoline   \n",
       "2         163        grand     125000                  8  gasoline   \n",
       "3          75         golf     150000                  6    petrol   \n",
       "4          69        fabia      90000                  7  gasoline   \n",
       "...       ...          ...        ...                ...       ...   \n",
       "354364      0         colt     150000                  7    petrol   \n",
       "354365      0          NaN      20000                  1       NaN   \n",
       "354366    101       fortwo     125000                  3    petrol   \n",
       "354367    102  transporter     150000                  3  gasoline   \n",
       "354368    100         golf     150000                  6  gasoline   \n",
       "\n",
       "                 Brand NotRepaired          DateCreated  NumberOfPictures  \\\n",
       "0           volkswagen         NaN  2016-03-24 00:00:00                 0   \n",
       "1                 audi         yes  2016-03-24 00:00:00                 0   \n",
       "2                 jeep         NaN  2016-03-14 00:00:00                 0   \n",
       "3           volkswagen          no  2016-03-17 00:00:00                 0   \n",
       "4                skoda          no  2016-03-31 00:00:00                 0   \n",
       "...                ...         ...                  ...               ...   \n",
       "354364      mitsubishi         yes  2016-03-21 00:00:00                 0   \n",
       "354365  sonstige_autos         NaN  2016-03-14 00:00:00                 0   \n",
       "354366           smart          no  2016-03-05 00:00:00                 0   \n",
       "354367      volkswagen          no  2016-03-19 00:00:00                 0   \n",
       "354368      volkswagen         NaN  2016-03-20 00:00:00                 0   \n",
       "\n",
       "        PostalCode             LastSeen  \n",
       "0            70435  2016-04-07 03:16:57  \n",
       "1            66954  2016-04-07 01:46:50  \n",
       "2            90480  2016-04-05 12:47:46  \n",
       "3            91074  2016-03-17 17:40:17  \n",
       "4            60437  2016-04-06 10:17:21  \n",
       "...            ...                  ...  \n",
       "354364        2694  2016-03-21 10:42:49  \n",
       "354365       39576  2016-04-06 00:46:52  \n",
       "354366       26135  2016-03-11 18:17:12  \n",
       "354367       87439  2016-04-07 07:15:26  \n",
       "354368       40764  2016-03-24 12:45:21  \n",
       "\n",
       "[354369 rows x 16 columns]"
      ]
     },
     "execution_count": 2,
     "metadata": {},
     "output_type": "execute_result"
    }
   ],
   "source": [
    "data = pd.read_csv('/datasets/autos.csv')\n",
    "data"
   ]
  },
  {
   "cell_type": "code",
   "execution_count": 3,
   "metadata": {},
   "outputs": [
    {
     "data": {
      "text/plain": [
       "<AxesSubplot:>"
      ]
     },
     "execution_count": 3,
     "metadata": {},
     "output_type": "execute_result"
    },
    {
     "data": {
      "image/png": "[encoded data removed]",
      "text/plain": [
       "<Figure size 1440x720 with 1 Axes>"
      ]
     },
     "metadata": {
      "needs_background": "light"
     },
     "output_type": "display_data"
    }
   ],
   "source": [
    "#data['Price'].hist(bins=50, figsize=(20, 10))\n",
    "g = data.query(' Price > 19000')\n",
    "b = data.query('100 <Price < 500')\n",
    "b['Kilometer'].hist( figsize=(20, 10))\n",
    "g['Kilometer'].hist( figsize=(20, 10))\n",
    "#g.head(50)"
   ]
  },
  {
   "cell_type": "code",
   "execution_count": 4,
   "metadata": {},
   "outputs": [
    {
     "data": {
      "text/plain": [
       "no     247161\n",
       "yes     36054\n",
       "Name: NotRepaired, dtype: int64"
      ]
     },
     "execution_count": 4,
     "metadata": {},
     "output_type": "execute_result"
    }
   ],
   "source": [
    "data['NotRepaired'].value_counts()"
   ]
  },
  {
   "cell_type": "code",
   "execution_count": 5,
   "metadata": {},
   "outputs": [
    {
     "data": {
      "text/plain": [
       "0.20079070121822168"
      ]
     },
     "execution_count": 5,
     "metadata": {},
     "output_type": "execute_result"
    }
   ],
   "source": [
    "71154/354369"
   ]
  },
  {
   "cell_type": "code",
   "execution_count": 6,
   "metadata": {},
   "outputs": [
    {
     "data": {
      "text/plain": [
       "DateCrawled              0\n",
       "Price                    0\n",
       "VehicleType          37490\n",
       "RegistrationYear         0\n",
       "Gearbox              19833\n",
       "Power                    0\n",
       "Model                19705\n",
       "Kilometer                0\n",
       "RegistrationMonth        0\n",
       "FuelType             32895\n",
       "Brand                    0\n",
       "NotRepaired          71154\n",
       "DateCreated              0\n",
       "NumberOfPictures         0\n",
       "PostalCode               0\n",
       "LastSeen                 0\n",
       "dtype: int64"
      ]
     },
     "execution_count": 6,
     "metadata": {},
     "output_type": "execute_result"
    }
   ],
   "source": [
    "data.isna().sum()"
   ]
  },
  {
   "cell_type": "code",
   "execution_count": 7,
   "metadata": {},
   "outputs": [],
   "source": [
    "# Removing columns not needed for training\n",
    "data = data.drop(['DateCrawled', 'RegistrationMonth', 'DateCreated', 'PostalCode', 'LastSeen', 'NumberOfPictures'], axis=1)\n",
    "\n",
    "# Delete rows where there are null values\n",
    "data = data.loc[data.ne(0).all(axis=1)]\n",
    "\n",
    "# Replacing nan with ink (i do't know)\n",
    "data['VehicleType'] = data['VehicleType'].fillna('idk')\n",
    "data['Gearbox'] = data['Gearbox'].fillna('idk')\n",
    "data['Model'] = data['Model'].fillna('idk')\n",
    "data['FuelType'] = data['FuelType'].fillna('idk')\n",
    "data['NotRepaired'] = data['NotRepaired'].fillna('idk')\n",
    "\n",
    "# Remove columns with abnormal values\n",
    "#(in 1886 the first machine appeared, the most powerful machine was 1300, and the weakest was 5)\n",
    "# You can hardly buy a car cheaper than 100 euros\n",
    "data = data.query(' RegistrationYear <= 2016 and RegistrationYear >= 1886')\n",
    "data = data.query(' Price >= 100')\n",
    "data = data.query(' Power >= 5 and Power <= 1300')\n",
    "\n",
    "# create a new encoding list\n",
    "data_rep = data[['VehicleType', 'Gearbox', 'Model', 'FuelType', 'Brand', 'NotRepaired']]\n",
    "\n",
    "# encoding\n",
    "encoder = OrdinalEncoder()\n",
    "data_ordinal = pd.DataFrame(encoder.fit_transform(data_rep),\n",
    "                            columns=data_rep.columns)\n"
   ]
  },
  {
   "cell_type": "code",
   "execution_count": 8,
   "metadata": {},
   "outputs": [],
   "source": [
    "data = data.reset_index(drop=True)"
   ]
  },
  {
   "cell_type": "markdown",
   "metadata": {},
   "source": [
    "removed null values"
   ]
  },
  {
   "cell_type": "code",
   "execution_count": 9,
   "metadata": {},
   "outputs": [],
   "source": [
    "data_ordinal[['Price', 'RegistrationYear', 'Power', 'Kilometer']] = data[['Price', 'RegistrationYear', 'Power', 'Kilometer']]"
   ]
  },
  {
   "cell_type": "markdown",
   "metadata": {},
   "source": [
    "*Replacing the value from the main dataframe with encoded ones*"
   ]
  },
  {
   "cell_type": "code",
   "execution_count": 10,
   "metadata": {},
   "outputs": [
    {
     "data": {
      "text/html": [
       "<div>\n",
       "<style scoped>\n",
       "    .dataframe tbody tr th:only-of-type {\n",
       "        vertical-align: middle;\n",
       "    }\n",
       "\n",
       "    .dataframe tbody tr th {\n",
       "        vertical-align: top;\n",
       "    }\n",
       "\n",
       "    .dataframe thead th {\n",
       "        text-align: right;\n",
       "    }\n",
       "</style>\n",
       "<table border=\"1\" class=\"dataframe\">\n",
       "  <thead>\n",
       "    <tr style=\"text-align: right;\">\n",
       "      <th></th>\n",
       "      <th>VehicleType</th>\n",
       "      <th>Gearbox</th>\n",
       "      <th>Model</th>\n",
       "      <th>FuelType</th>\n",
       "      <th>Brand</th>\n",
       "      <th>NotRepaired</th>\n",
       "      <th>Price</th>\n",
       "      <th>RegistrationYear</th>\n",
       "      <th>Power</th>\n",
       "      <th>Kilometer</th>\n",
       "    </tr>\n",
       "  </thead>\n",
       "  <tbody>\n",
       "    <tr>\n",
       "      <th>0</th>\n",
       "      <td>2.0</td>\n",
       "      <td>2.0</td>\n",
       "      <td>121.0</td>\n",
       "      <td>2.0</td>\n",
       "      <td>1.0</td>\n",
       "      <td>2.0</td>\n",
       "      <td>18300</td>\n",
       "      <td>2011</td>\n",
       "      <td>190</td>\n",
       "      <td>125000</td>\n",
       "    </tr>\n",
       "    <tr>\n",
       "      <th>1</th>\n",
       "      <td>7.0</td>\n",
       "      <td>0.0</td>\n",
       "      <td>117.0</td>\n",
       "      <td>2.0</td>\n",
       "      <td>14.0</td>\n",
       "      <td>0.0</td>\n",
       "      <td>9800</td>\n",
       "      <td>2004</td>\n",
       "      <td>163</td>\n",
       "      <td>125000</td>\n",
       "    </tr>\n",
       "    <tr>\n",
       "      <th>2</th>\n",
       "      <td>6.0</td>\n",
       "      <td>2.0</td>\n",
       "      <td>116.0</td>\n",
       "      <td>7.0</td>\n",
       "      <td>38.0</td>\n",
       "      <td>1.0</td>\n",
       "      <td>1500</td>\n",
       "      <td>2001</td>\n",
       "      <td>75</td>\n",
       "      <td>150000</td>\n",
       "    </tr>\n",
       "    <tr>\n",
       "      <th>3</th>\n",
       "      <td>6.0</td>\n",
       "      <td>2.0</td>\n",
       "      <td>101.0</td>\n",
       "      <td>2.0</td>\n",
       "      <td>31.0</td>\n",
       "      <td>1.0</td>\n",
       "      <td>3600</td>\n",
       "      <td>2008</td>\n",
       "      <td>69</td>\n",
       "      <td>90000</td>\n",
       "    </tr>\n",
       "    <tr>\n",
       "      <th>4</th>\n",
       "      <td>5.0</td>\n",
       "      <td>2.0</td>\n",
       "      <td>11.0</td>\n",
       "      <td>7.0</td>\n",
       "      <td>2.0</td>\n",
       "      <td>2.0</td>\n",
       "      <td>650</td>\n",
       "      <td>1995</td>\n",
       "      <td>102</td>\n",
       "      <td>150000</td>\n",
       "    </tr>\n",
       "    <tr>\n",
       "      <th>...</th>\n",
       "      <td>...</td>\n",
       "      <td>...</td>\n",
       "      <td>...</td>\n",
       "      <td>...</td>\n",
       "      <td>...</td>\n",
       "      <td>...</td>\n",
       "      <td>...</td>\n",
       "      <td>...</td>\n",
       "      <td>...</td>\n",
       "      <td>...</td>\n",
       "    </tr>\n",
       "    <tr>\n",
       "      <th>295437</th>\n",
       "      <td>3.0</td>\n",
       "      <td>0.0</td>\n",
       "      <td>4.0</td>\n",
       "      <td>4.0</td>\n",
       "      <td>0.0</td>\n",
       "      <td>1.0</td>\n",
       "      <td>5250</td>\n",
       "      <td>2016</td>\n",
       "      <td>150</td>\n",
       "      <td>150000</td>\n",
       "    </tr>\n",
       "    <tr>\n",
       "      <th>295438</th>\n",
       "      <td>5.0</td>\n",
       "      <td>2.0</td>\n",
       "      <td>141.0</td>\n",
       "      <td>7.0</td>\n",
       "      <td>30.0</td>\n",
       "      <td>2.0</td>\n",
       "      <td>3200</td>\n",
       "      <td>2004</td>\n",
       "      <td>225</td>\n",
       "      <td>150000</td>\n",
       "    </tr>\n",
       "    <tr>\n",
       "      <th>295439</th>\n",
       "      <td>1.0</td>\n",
       "      <td>0.0</td>\n",
       "      <td>106.0</td>\n",
       "      <td>7.0</td>\n",
       "      <td>32.0</td>\n",
       "      <td>1.0</td>\n",
       "      <td>1199</td>\n",
       "      <td>2000</td>\n",
       "      <td>101</td>\n",
       "      <td>125000</td>\n",
       "    </tr>\n",
       "    <tr>\n",
       "      <th>295440</th>\n",
       "      <td>0.0</td>\n",
       "      <td>2.0</td>\n",
       "      <td>224.0</td>\n",
       "      <td>2.0</td>\n",
       "      <td>38.0</td>\n",
       "      <td>1.0</td>\n",
       "      <td>9200</td>\n",
       "      <td>1996</td>\n",
       "      <td>102</td>\n",
       "      <td>150000</td>\n",
       "    </tr>\n",
       "    <tr>\n",
       "      <th>295441</th>\n",
       "      <td>8.0</td>\n",
       "      <td>2.0</td>\n",
       "      <td>116.0</td>\n",
       "      <td>2.0</td>\n",
       "      <td>38.0</td>\n",
       "      <td>0.0</td>\n",
       "      <td>3400</td>\n",
       "      <td>2002</td>\n",
       "      <td>100</td>\n",
       "      <td>150000</td>\n",
       "    </tr>\n",
       "  </tbody>\n",
       "</table>\n",
       "<p>295442 rows × 10 columns</p>\n",
       "</div>"
      ],
      "text/plain": [
       "        VehicleType  Gearbox  Model  FuelType  Brand  NotRepaired  Price  \\\n",
       "0               2.0      2.0  121.0       2.0    1.0          2.0  18300   \n",
       "1               7.0      0.0  117.0       2.0   14.0          0.0   9800   \n",
       "2               6.0      2.0  116.0       7.0   38.0          1.0   1500   \n",
       "3               6.0      2.0  101.0       2.0   31.0          1.0   3600   \n",
       "4               5.0      2.0   11.0       7.0    2.0          2.0    650   \n",
       "...             ...      ...    ...       ...    ...          ...    ...   \n",
       "295437          3.0      0.0    4.0       4.0    0.0          1.0   5250   \n",
       "295438          5.0      2.0  141.0       7.0   30.0          2.0   3200   \n",
       "295439          1.0      0.0  106.0       7.0   32.0          1.0   1199   \n",
       "295440          0.0      2.0  224.0       2.0   38.0          1.0   9200   \n",
       "295441          8.0      2.0  116.0       2.0   38.0          0.0   3400   \n",
       "\n",
       "        RegistrationYear  Power  Kilometer  \n",
       "0                   2011    190     125000  \n",
       "1                   2004    163     125000  \n",
       "2                   2001     75     150000  \n",
       "3                   2008     69      90000  \n",
       "4                   1995    102     150000  \n",
       "...                  ...    ...        ...  \n",
       "295437              2016    150     150000  \n",
       "295438              2004    225     150000  \n",
       "295439              2000    101     125000  \n",
       "295440              1996    102     150000  \n",
       "295441              2002    100     150000  \n",
       "\n",
       "[295442 rows x 10 columns]"
      ]
     },
     "execution_count": 10,
     "metadata": {},
     "output_type": "execute_result"
    }
   ],
   "source": [
    "data = data_ordinal\n",
    "data"
   ]
  },
  {
   "cell_type": "markdown",
   "metadata": {},
   "source": [
    "**I prepared the data by deleting unnecessary columns, deleted columns with values of 0. Replaced the nan values in the columns 'VehicleType', 'Gearbox', 'Model', 'FuelType', 'Brand', 'NotRepaired' with IDK. Also did the framing**"
   ]
  },
  {
   "cell_type": "markdown",
   "metadata": {},
   "source": [
    "# 2 Train Models"
   ]
  },
  {
   "cell_type": "code",
   "execution_count": 11,
   "metadata": {},
   "outputs": [
    {
     "name": "stdout",
     "output_type": "stream",
     "text": [
      "<class 'pandas.core.frame.DataFrame'>\n",
      "RangeIndex: 295442 entries, 0 to 295441\n",
      "Data columns (total 10 columns):\n",
      " #   Column            Non-Null Count   Dtype  \n",
      "---  ------            --------------   -----  \n",
      " 0   VehicleType       295442 non-null  float64\n",
      " 1   Gearbox           295442 non-null  float64\n",
      " 2   Model             295442 non-null  float64\n",
      " 3   FuelType          295442 non-null  float64\n",
      " 4   Brand             295442 non-null  float64\n",
      " 5   NotRepaired       295442 non-null  float64\n",
      " 6   Price             295442 non-null  int64  \n",
      " 7   RegistrationYear  295442 non-null  int64  \n",
      " 8   Power             295442 non-null  int64  \n",
      " 9   Kilometer         295442 non-null  int64  \n",
      "dtypes: float64(6), int64(4)\n",
      "memory usage: 22.5 MB\n"
     ]
    }
   ],
   "source": [
    "data_new = data.astype(int)\n",
    "data.info()\n"
   ]
  },
  {
   "cell_type": "code",
   "execution_count": 12,
   "metadata": {},
   "outputs": [
    {
     "name": "stdout",
     "output_type": "stream",
     "text": [
      "(177265, 10)\n",
      "(59088, 10)\n",
      "(59089, 10)\n"
     ]
    }
   ],
   "source": [
    "train, valid, test = np.split(data_new.sample(frac=1, random_state=12345),\n",
    "                                 [int(.6*len(data_new)), int(.8*len(data_new))])\n",
    "\n",
    "# variables for features and target feature\n",
    "features_train = train.drop(['Price'], axis=1)\n",
    "target_train = train['Price']\n",
    "\n",
    "features_valid = valid.drop(['Price'], axis=1)\n",
    "target_valid = valid['Price'] \n",
    "\n",
    "features_test = test.drop(['Price'], axis=1)\n",
    "target_test = test['Price']\n",
    "print(train.shape)\n",
    "print(valid.shape)\n",
    "print(test.shape)"
   ]
  },
  {
   "cell_type": "code",
   "execution_count": 13,
   "metadata": {},
   "outputs": [
    {
     "name": "stdout",
     "output_type": "stream",
     "text": [
      "MSE: 9800778.366969846\n",
      "RMSE: 3130.6194861352674\n",
      "CPU times: user 62.5 ms, sys: 127 ms, total: 189 ms\n",
      "Wall time: 183 ms\n"
     ]
    }
   ],
   "source": [
    "%%time\n",
    "model = LinearRegression()\n",
    "model.fit(features_train, target_train) \n",
    "predictions_valid = model.predict(features_valid)\n",
    "mse = mean_squared_error(target_valid, predictions_valid)\n",
    "print(\"MSE:\", mse)\n",
    "rmse = mse ** 0.5 \n",
    "print(\"RMSE:\", rmse)\n"
   ]
  },
  {
   "cell_type": "code",
   "execution_count": 14,
   "metadata": {},
   "outputs": [
    {
     "name": "stdout",
     "output_type": "stream",
     "text": [
      "0:\tlearn: 3076.1139607\ttotal: 103ms\tremaining: 20.6s\n",
      "10:\tlearn: 1751.9780313\ttotal: 581ms\tremaining: 9.98s\n",
      "20:\tlearn: 1657.5196840\ttotal: 1.07s\tremaining: 9.16s\n",
      "30:\tlearn: 1594.3321706\ttotal: 1.56s\tremaining: 8.51s\n",
      "40:\tlearn: 1548.8638556\ttotal: 2.04s\tremaining: 7.91s\n",
      "50:\tlearn: 1519.8913027\ttotal: 2.52s\tremaining: 7.38s\n",
      "60:\tlearn: 1494.6298220\ttotal: 2.99s\tremaining: 6.82s\n",
      "70:\tlearn: 1471.5661735\ttotal: 3.46s\tremaining: 6.29s\n",
      "80:\tlearn: 1451.4677742\ttotal: 3.94s\tremaining: 5.78s\n",
      "90:\tlearn: 1434.8538719\ttotal: 4.44s\tremaining: 5.32s\n",
      "100:\tlearn: 1418.0692511\ttotal: 4.93s\tremaining: 4.84s\n",
      "110:\tlearn: 1401.5125383\ttotal: 5.47s\tremaining: 4.38s\n",
      "120:\tlearn: 1386.3133687\ttotal: 5.95s\tremaining: 3.88s\n",
      "130:\tlearn: 1374.6169174\ttotal: 6.42s\tremaining: 3.38s\n",
      "140:\tlearn: 1364.1013676\ttotal: 6.9s\tremaining: 2.89s\n",
      "150:\tlearn: 1353.5008571\ttotal: 7.37s\tremaining: 2.39s\n",
      "160:\tlearn: 1342.4949653\ttotal: 7.86s\tremaining: 1.9s\n",
      "170:\tlearn: 1333.4467978\ttotal: 8.32s\tremaining: 1.41s\n",
      "180:\tlearn: 1324.4364700\ttotal: 8.8s\tremaining: 924ms\n",
      "190:\tlearn: 1313.9125703\ttotal: 9.29s\tremaining: 438ms\n",
      "199:\tlearn: 1306.2598426\ttotal: 9.73s\tremaining: 0us\n",
      "MSE: 2452396.8457034947\n",
      "RMSE: 1566.0130413580516\n",
      "CPU times: user 9.84 s, sys: 173 ms, total: 10 s\n",
      "Wall time: 10.5 s\n"
     ]
    }
   ],
   "source": [
    "%%time\n",
    "\n",
    "model1 = CatBoostRegressor(iterations=200, learning_rate=0.5, depth = 10)\n",
    "# Fit model\n",
    "model1.fit(features_train, target_train, verbose=10) \n",
    "predictions_valid1 = model1.predict(features_valid)\n",
    "mse1 = mean_squared_error(target_valid, predictions_valid1)\n",
    "print(\"MSE:\", mse1)\n",
    "rmse1 = mse1 ** 0.5 \n",
    "print(\"RMSE:\", rmse1)"
   ]
  },
  {
   "cell_type": "code",
   "execution_count": 15,
   "metadata": {},
   "outputs": [
    {
     "name": "stdout",
     "output_type": "stream",
     "text": [
      "[LightGBM] [Warning] Accuracy may be bad since you didn't explicitly set num_leaves OR 2^max_depth > num_leaves. (num_leaves=31).\n",
      "[LightGBM] [Warning] Accuracy may be bad since you didn't explicitly set num_leaves OR 2^max_depth > num_leaves. (num_leaves=31).\n",
      "[LightGBM] [Warning] Auto-choosing col-wise multi-threading, the overhead of testing was 0.019858 seconds.\n",
      "You can set `force_col_wise=true` to remove the overhead.\n",
      "[LightGBM] [Info] Total Bins 654\n",
      "[LightGBM] [Info] Number of data points in the train set: 177265, number of used features: 9\n",
      "[LightGBM] [Info] Start training from score 4847.856497\n",
      "MSE: 2748948.3696521693\n",
      "RMSE: 1657.9952863781516\n",
      "CPU times: user 15.3 s, sys: 6.73 ms, total: 15.3 s\n",
      "Wall time: 15.4 s\n"
     ]
    }
   ],
   "source": [
    "%%time\n",
    "train=lgb.Dataset(features_train, label=target_train)\n",
    "\n",
    "params={}\n",
    "params['learning_rate']=1\n",
    "params['boosting_type']='gbdt' #GradientBoostingDecisionTree\n",
    "params['objective']='regression'#regression task\n",
    "params['n_estimators']=200\n",
    "params['max_depth']= 10\n",
    "\n",
    "model2=lgb.train(params,train,  10)\n",
    "\n",
    "predictions_valid2=model2.predict(features_valid)\n",
    "\n",
    "mse2 = mean_squared_error(target_valid, predictions_valid2)\n",
    "print(\"MSE:\", mse2)\n",
    "rmse2 = mse2 ** 0.5 \n",
    "print(\"RMSE:\", rmse2)\n",
    "\n"
   ]
  },
  {
   "cell_type": "code",
   "execution_count": 16,
   "metadata": {},
   "outputs": [
    {
     "name": "stdout",
     "output_type": "stream",
     "text": [
      "[01:39:21] WARNING: ../src/objective/regression_obj.cu:188: reg:linear is now deprecated in favor of reg:squarederror.\n",
      "MSE: 3130126.0697207\n",
      "RMSE: 1769.2162303462796\n",
      "CPU times: user 26.3 s, sys: 150 ms, total: 26.4 s\n",
      "Wall time: 26.7 s\n"
     ]
    }
   ],
   "source": [
    "%%time\n",
    "model3 = xgb.XGBRegressor(objective ='reg:linear', colsample_bytree = 0.3, learning_rate = 1,\n",
    "                max_depth = 5, alpha = 10, n_estimators = 100)\n",
    "\n",
    "model3.fit(features_train, target_train)\n",
    "\n",
    "predictions_valid3 = model3.predict(features_valid)\n",
    "\n",
    "mse3 = mean_squared_error(target_valid, predictions_valid3)\n",
    "print(\"MSE:\", mse3)\n",
    "rmse3 = mse3 ** 0.5 \n",
    "print(\"RMSE:\", rmse3)"
   ]
  },
  {
   "cell_type": "markdown",
   "metadata": {},
   "source": [
    "**The fastest learning model is LightGBM. This model also has a pretty good quality metric**"
   ]
  },
  {
   "cell_type": "markdown",
   "metadata": {},
   "source": [
    "# 3. Model analysis"
   ]
  },
  {
   "cell_type": "code",
   "execution_count": 17,
   "metadata": {},
   "outputs": [
    {
     "name": "stdout",
     "output_type": "stream",
     "text": [
      "MSE: 9568856.980723497\n",
      "RMSE: 3093.3569113058225\n",
      "CPU times: user 0 ns, sys: 53 ms, total: 53 ms\n",
      "Wall time: 86 ms\n"
     ]
    }
   ],
   "source": [
    "%%time\n",
    "predictions_test = model.predict(features_test)\n",
    "mse = mean_squared_error(target_test, predictions_test)\n",
    "print(\"MSE:\", mse)\n",
    "rmse = mse ** 0.5 \n",
    "print(\"RMSE:\", rmse)"
   ]
  },
  {
   "cell_type": "code",
   "execution_count": 18,
   "metadata": {},
   "outputs": [
    {
     "name": "stdout",
     "output_type": "stream",
     "text": [
      "MSE: 2487686.340832145\n",
      "RMSE: 1577.2401024676442\n",
      "CPU times: user 53.1 ms, sys: 124 µs, total: 53.3 ms\n",
      "Wall time: 52.2 ms\n"
     ]
    }
   ],
   "source": [
    "%%time\n",
    "predictions_test1 = model1.predict(features_test)\n",
    "mse1 = mean_squared_error(target_test, predictions_test1)\n",
    "print(\"MSE:\", mse1)\n",
    "rmse1 = mse1 ** 0.5 \n",
    "print(\"RMSE:\", rmse1)"
   ]
  },
  {
   "cell_type": "code",
   "execution_count": 19,
   "metadata": {},
   "outputs": [
    {
     "name": "stdout",
     "output_type": "stream",
     "text": [
      "MSE: 2755567.4626494194\n",
      "RMSE: 1659.9901995642683\n",
      "CPU times: user 622 ms, sys: 5.62 ms, total: 628 ms\n",
      "Wall time: 634 ms\n"
     ]
    }
   ],
   "source": [
    "%%time\n",
    "predictions_test2 = model2.predict(features_test)\n",
    "mse2 = mean_squared_error(target_test, predictions_test2)\n",
    "print(\"MSE:\", mse2)\n",
    "rmse2 = mse2 ** 0.5 \n",
    "print(\"RMSE:\", rmse2)"
   ]
  },
  {
   "cell_type": "code",
   "execution_count": 20,
   "metadata": {},
   "outputs": [
    {
     "name": "stdout",
     "output_type": "stream",
     "text": [
      "MSE: 3234283.763946246\n",
      "RMSE: 1798.4114556870031\n",
      "CPU times: user 182 ms, sys: 0 ns, total: 182 ms\n",
      "Wall time: 106 ms\n"
     ]
    }
   ],
   "source": [
    "%%time\n",
    "predictions_test3 = model3.predict(features_test)\n",
    "mse3 = mean_squared_error(target_test, predictions_test3)\n",
    "print(\"MSE:\", mse3)\n",
    "rmse3 = mse3 ** 0.5 \n",
    "print(\"RMSE:\", rmse3)"
   ]
  },
  {
   "cell_type": "markdown",
   "metadata": {},
   "source": [
    "**The fastest model turned out to be linear regression, but the problem is that the quality of this model is almost 2 times worse than the others. And since the customer needs speed and quality, the CatBoost model is the best option.**"
   ]
  },
  {
   "cell_type": "code",
   "execution_count": 21,
   "metadata": {},
   "outputs": [
    {
     "name": "stdout",
     "output_type": "stream",
     "text": [
      "MSE: 9568856.980723497\n",
      "RMSE: 1593.07317421052\n",
      "CPU times: user 38.7 s, sys: 399 ms, total: 39.1 s\n",
      "Wall time: 39.1 s\n"
     ]
    }
   ],
   "source": [
    "%%time\n",
    "model4 = RandomForestRegressor(n_estimators=100, max_depth = 20)\n",
    "model4.fit(features_train, target_train) \n",
    "predictions_valid4 = model4.predict(features_valid)\n",
    "mse4 = mean_squared_error(target_valid, predictions_valid4)\n",
    "print(\"MSE:\", mse)\n",
    "rmse4 = mse4 ** 0.5 \n",
    "print(\"RMSE:\", rmse4)"
   ]
  },
  {
   "cell_type": "code",
   "execution_count": 22,
   "metadata": {},
   "outputs": [
    {
     "name": "stdout",
     "output_type": "stream",
     "text": [
      "MSE: 2512535.04241366\n",
      "RMSE: 1585.0978021603778\n",
      "CPU times: user 1.81 s, sys: 8.9 ms, total: 1.82 s\n",
      "Wall time: 1.83 s\n"
     ]
    }
   ],
   "source": [
    "%%time\n",
    "predictions_test4 = model4.predict(features_test)\n",
    "mse4 = mean_squared_error(target_test, predictions_test4)\n",
    "print(\"MSE:\", mse4)\n",
    "rmse4 = mse4 ** 0.5 \n",
    "print(\"RMSE:\", rmse4)"
   ]
  },
  {
   "cell_type": "code",
   "execution_count": 23,
   "metadata": {},
   "outputs": [],
   "source": [
    "def plot_feature_importance(importance,names,model_type):\n",
    "\n",
    "    #Create arrays from feature importance and feature names\n",
    "    feature_importance = np.array(importance)\n",
    "    feature_names = np.array(names)\n",
    "\n",
    "    #Create a DataFrame using a Dictionary\n",
    "    data={'feature_names':feature_names,'feature_importance':feature_importance}\n",
    "    fi_df = pd.DataFrame(data)\n",
    "\n",
    "    #Sort the DataFrame in order decreasing feature importance\n",
    "    fi_df.sort_values(by=['feature_importance'], ascending=False,inplace=True)\n",
    "\n",
    "    #Define size of bar plot\n",
    "    plt.figure(figsize=(10,8))\n",
    "    #Plot Searborn bar chart\n",
    "    sns.barplot(x=fi_df['feature_importance'], y=fi_df['feature_names'])\n",
    "    #Add chart labels\n",
    "    plt.title(model_type + 'FEATURE IMPORTANCE')\n",
    "    plt.xlabel('FEATURE IMPORTANCE')\n",
    "    plt.ylabel('FEATURE NAMES')"
   ]
  },
  {
   "cell_type": "code",
   "execution_count": 24,
   "metadata": {},
   "outputs": [
    {
     "data": {
      "image/png": "[encoded data removed]",
      "text/plain": [
       "<Figure size 720x576 with 1 Axes>"
      ]
     },
     "metadata": {
      "needs_background": "light"
     },
     "output_type": "display_data"
    },
    {
     "data": {
      "image/png": "[encoded data removed]",
      "text/plain": [
       "<Figure size 720x576 with 1 Axes>"
      ]
     },
     "metadata": {
      "needs_background": "light"
     },
     "output_type": "display_data"
    },
    {
     "data": {
      "image/png": "[encoded data removed]",
      "text/plain": [
       "<Figure size 720x576 with 1 Axes>"
      ]
     },
     "metadata": {
      "needs_background": "light"
     },
     "output_type": "display_data"
    }
   ],
   "source": [
    "plot_feature_importance(model1.feature_importances_,features_train.columns,'CatBoost ')\n",
    "plot_feature_importance(model3.feature_importances_,features_train.columns,'XGBoost ')\n",
    "plot_feature_importance(model4.feature_importances_,features_train.columns,'RandomForest ')"
   ]
  },
  {
   "cell_type": "markdown",
   "metadata": {},
   "source": [
    "<font color='blue'>Cometary</font> The main factor is the year of registration<br/>"
   ]
  },
  {
   "cell_type": "markdown",
   "metadata": {},
   "source": [
    "# 4 Conclusion\n",
    "**We can conclude that the CatBoost model is the most suitable for the customer. It is the fastest and highest quality, but if he needs to constantly retrain it, the LightGBM model will be the best choice. There is also a simple linear regression. It is very fast, but the result is very poor. According to the results, the models are very similar if they are given the same hyperparameters.**"
   ]
  },
  {
   "cell_type": "markdown",
   "metadata": {},
   "source": [
    "| Params/Model | Linear Regression | catboost | LightGBM | XGBoost | Random Forest |\n",
    "| :------------ | :-------------: |:-------------: |:-------------: |:- ------------: |:---------------------: |\n",
    "| Study Time | 44ms | 48.2s | 50.2s | 9.95s| 44.7s|\n",
    "| Run time | 7.97ms |210ms | 1.29s | 446ms | 1.02s |\n",
    "| | | | | | |\n",
    "| Quality on Training Set (RMSE) | 3751.1 |1611.3 | 1717.8 | 1764.6 | 1899.1|\n",
    "| Quality on test set (RMSE) | 3834.2 |1586 |1695.9| 1754.8|1910.2 |"
   ]
  },
  {
   "cell_type": "code",
   "execution_count": null,
   "metadata": {},
   "outputs": [],
   "source": []
  }
 ],
 "metadata": {
  "ExecuteTimeLog": [
   {
    "duration": 1638,
    "start_time": "2021-09-29T18:51:03.712Z"
   },
   {
    "duration": 6512,
    "start_time": "2021-09-29T18:51:05.353Z"
   },
   {
    "duration": 1612,
    "start_time": "2021-09-29T18:51:26.492Z"
   },
   {
    "duration": 419,
    "start_time": "2021-09-29T18:52:06.725Z"
   },
   {
    "duration": 935,
    "start_time": "2021-09-29T18:52:44.382Z"
   },
   {
    "duration": 902,
    "start_time": "2021-09-29T18:52:51.347Z"
   },
   {
    "duration": 993,
    "start_time": "2021-09-29T18:52:58.286Z"
   },
   {
    "duration": 1046,
    "start_time": "2021-09-29T18:53:06.322Z"
   },
   {
    "duration": 734,
    "start_time": "2021-09-29T18:53:12.156Z"
   },
   {
    "duration": 419,
    "start_time": "2021-09-29T18:57:20.923Z"
   },
   {
    "duration": 1032,
    "start_time": "2021-09-29T18:57:37.312Z"
   },
   {
    "duration": 4254,
    "start_time": "2021-09-29T18:58:35.373Z"
   },
   {
    "duration": 1231,
    "start_time": "2021-09-29T18:58:50.261Z"
   },
   {
    "duration": 879,
    "start_time": "2021-09-29T18:59:13.278Z"
   },
   {
    "duration": 719,
    "start_time": "2021-09-29T18:59:25.222Z"
   },
   {
    "duration": 693,
    "start_time": "2021-09-29T18:59:34.841Z"
   },
   {
    "duration": 793,
    "start_time": "2021-09-29T18:59:46.227Z"
   },
   {
    "duration": 724,
    "start_time": "2021-09-29T19:00:27.186Z"
   },
   {
    "duration": 49,
    "start_time": "2021-09-29T19:00:33.666Z"
   },
   {
    "duration": 57,
    "start_time": "2021-09-29T19:01:29.221Z"
   },
   {
    "duration": 685,
    "start_time": "2021-09-29T19:02:03.449Z"
   },
   {
    "duration": 933,
    "start_time": "2021-09-29T19:02:12.258Z"
   },
   {
    "duration": 851,
    "start_time": "2021-09-29T19:02:31.135Z"
   },
   {
    "duration": 657,
    "start_time": "2021-09-29T19:02:43.896Z"
   },
   {
    "duration": 838,
    "start_time": "2021-09-29T19:02:52.262Z"
   },
   {
    "duration": 723,
    "start_time": "2021-09-29T19:03:02.226Z"
   },
   {
    "duration": 804,
    "start_time": "2021-09-29T19:04:42.508Z"
   },
   {
    "duration": 558,
    "start_time": "2021-09-29T19:05:00.477Z"
   },
   {
    "duration": 591,
    "start_time": "2021-09-29T19:05:29.139Z"
   },
   {
    "duration": 586,
    "start_time": "2021-09-29T19:06:21.916Z"
   },
   {
    "duration": 590,
    "start_time": "2021-09-29T19:07:03.439Z"
   },
   {
    "duration": 674,
    "start_time": "2021-09-29T19:07:09.118Z"
   },
   {
    "duration": 795,
    "start_time": "2021-09-29T19:08:11.174Z"
   },
   {
    "duration": 717,
    "start_time": "2021-09-29T19:08:36.371Z"
   },
   {
    "duration": 1230,
    "start_time": "2021-09-29T19:08:45.527Z"
   },
   {
    "duration": 711,
    "start_time": "2021-09-29T19:08:47.676Z"
   },
   {
    "duration": 687,
    "start_time": "2021-09-29T19:09:09.711Z"
   },
   {
    "duration": 744,
    "start_time": "2021-09-29T19:09:19.099Z"
   },
   {
    "duration": 735,
    "start_time": "2021-09-29T19:10:07.062Z"
   },
   {
    "duration": 153,
    "start_time": "2021-09-29T19:11:16.966Z"
   },
   {
    "duration": 5,
    "start_time": "2021-09-29T19:12:05.431Z"
   },
   {
    "duration": 47,
    "start_time": "2021-09-29T19:13:21.852Z"
   },
   {
    "duration": 44,
    "start_time": "2021-09-29T19:14:06.851Z"
   },
   {
    "duration": 1777,
    "start_time": "2022-10-08T01:38:51.328Z"
   },
   {
    "duration": 1187,
    "start_time": "2022-10-08T01:38:53.107Z"
   },
   {
    "duration": 358,
    "start_time": "2022-10-08T01:38:54.296Z"
   },
   {
    "duration": 31,
    "start_time": "2022-10-08T01:38:54.656Z"
   },
   {
    "duration": 5,
    "start_time": "2022-10-08T01:38:54.690Z"
   },
   {
    "duration": 126,
    "start_time": "2022-10-08T01:38:54.697Z"
   },
   {
    "duration": 695,
    "start_time": "2022-10-08T01:38:54.825Z"
   },
   {
    "duration": 38,
    "start_time": "2022-10-08T01:38:55.522Z"
   },
   {
    "duration": 12,
    "start_time": "2022-10-08T01:38:55.562Z"
   },
   {
    "duration": 29,
    "start_time": "2022-10-08T01:38:55.575Z"
   },
   {
    "duration": 63,
    "start_time": "2022-10-08T01:38:55.606Z"
   },
   {
    "duration": 98,
    "start_time": "2022-10-08T01:38:55.671Z"
   },
   {
    "duration": 189,
    "start_time": "2022-10-08T01:38:55.770Z"
   },
   {
    "duration": 10527,
    "start_time": "2022-10-08T01:38:55.962Z"
   },
   {
    "duration": 15378,
    "start_time": "2022-10-08T01:39:06.490Z"
   },
   {
    "duration": 26695,
    "start_time": "2022-10-08T01:39:21.870Z"
   },
   {
    "duration": 90,
    "start_time": "2022-10-08T01:39:48.568Z"
   },
   {
    "duration": 153,
    "start_time": "2022-10-08T01:39:48.661Z"
   },
   {
    "duration": 639,
    "start_time": "2022-10-08T01:39:48.817Z"
   },
   {
    "duration": 197,
    "start_time": "2022-10-08T01:39:49.457Z"
   },
   {
    "duration": 39101,
    "start_time": "2022-10-08T01:39:49.656Z"
   },
   {
    "duration": 1832,
    "start_time": "2022-10-08T01:40:28.759Z"
   },
   {
    "duration": 4,
    "start_time": "2022-10-08T01:40:30.593Z"
   },
   {
    "duration": 697,
    "start_time": "2022-10-08T01:40:30.599Z"
   }
  ],
  "kernelspec": {
   "display_name": "Python 3 (ipykernel)",
   "language": "python",
   "name": "python3"
  },
  "language_info": {
   "codemirror_mode": {
    "name": "ipython",
    "version": 3
   },
   "file_extension": ".py",
   "mimetype": "text/x-python",
   "name": "python",
   "nbconvert_exporter": "python",
   "pygments_lexer": "ipython3",
   "version": "3.9.5"
  },
  "toc": {
   "base_numbering": 1,
   "nav_menu": {},
   "number_sections": true,
   "sideBar": true,
   "skip_h1_title": false,
   "title_cell": "Table of Contents",
   "title_sidebar": "Contents",
   "toc_cell": false,
   "toc_position": {},
   "toc_section_display": true,
   "toc_window_display": false
  }
 },
 "nbformat": 4,
 "nbformat_minor": 2
}
